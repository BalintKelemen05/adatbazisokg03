{
    "metadata": {
        "kernelspec": {
            "name": "SQL",
            "display_name": "SQL",
            "language": "sql"
        },
        "language_info": {
            "name": "sql",
            "version": ""
        }
    },
    "nbformat_minor": 2,
    "nbformat": 4,
    "cells": [
        {
            "cell_type": "code",
            "source": [
                "-- I. A termékek eloszlása kategóriájuk szerint:\r\n",
                "\r\n",
                "SELECT  tk.KAT_NEV AS 'termek_kategoria',\r\n",
                "        COUNT(t.TERMEKKOD) AS 'darabszam'\r\n",
                "FROM Termek t JOIN Termekkategoria tk ON tk.KAT_ID = t.KAT_ID\r\n",
                "GROUP BY tk.KAT_NEV\r\n",
                "ORDER BY 'darabszam' DESC"
            ],
            "metadata": {
                "azdata_cell_guid": "d8ef3637-bae5-4bee-8d6c-50770776d9c0",
                "language": "sql",
                "tags": []
            },
            "outputs": [
                {
                    "output_type": "display_data",
                    "data": {
                        "text/html": "(143 rows affected)"
                    },
                    "metadata": {}
                },
                {
                    "output_type": "display_data",
                    "data": {
                        "text/html": "Total execution time: 00:00:00.049"
                    },
                    "metadata": {}
                },
                {
                    "output_type": "execute_result",
                    "metadata": {},
                    "execution_count": 2,
                    "data": {
                        "application/vnd.dataresource+json": {
                            "schema": {
                                "fields": [
                                    {
                                        "name": "Kategória"
                                    },
                                    {
                                        "name": "Darabszám"
                                    }
                                ]
                            },
                            "data": [
                                {
                                    "Kategória": "golyóstoll",
                                    "Darabszám": "26"
                                },
                                {
                                    "Kategória": "iskolaszer",
                                    "Darabszám": "24"
                                },
                                {
                                    "Kategória": "ajándék tasak",
                                    "Darabszám": "20"
                                },
                                {
                                    "Kategória": "ceruza",
                                    "Darabszám": "19"
                                },
                                {
                                    "Kategória": "tollbetét",
                                    "Darabszám": "18"
                                },
                                {
                                    "Kategória": "képeslap",
                                    "Darabszám": "16"
                                },
                                {
                                    "Kategória": "könyv",
                                    "Darabszám": "15"
                                },
                                {
                                    "Kategória": "filctoll",
                                    "Darabszám": "13"
                                },
                                {
                                    "Kategória": "füzet",
                                    "Darabszám": "11"
                                },
                                {
                                    "Kategória": "matrica",
                                    "Darabszám": "10"
                                },
                                {
                                    "Kategória": "ragasztó",
                                    "Darabszám": "10"
                                },
                                {
                                    "Kategória": "munkafüzet",
                                    "Darabszám": "9"
                                },
                                {
                                    "Kategória": "mappa",
                                    "Darabszám": "9"
                                },
                                {
                                    "Kategória": "pixiron",
                                    "Darabszám": "9"
                                },
                                {
                                    "Kategória": "kulcstartó",
                                    "Darabszám": "7"
                                },
                                {
                                    "Kategória": "levélpapír",
                                    "Darabszám": "7"
                                },
                                {
                                    "Kategória": "radír",
                                    "Darabszám": "7"
                                },
                                {
                                    "Kategória": "tolltartó",
                                    "Darabszám": "7"
                                },
                                {
                                    "Kategória": "füzetborító",
                                    "Darabszám": "7"
                                },
                                {
                                    "Kategória": "hibajavító",
                                    "Darabszám": "7"
                                },
                                {
                                    "Kategória": "fehérnemű",
                                    "Darabszám": "7"
                                },
                                {
                                    "Kategória": "csomagoló papír",
                                    "Darabszám": "7"
                                },
                                {
                                    "Kategória": "ecset",
                                    "Darabszám": "7"
                                },
                                {
                                    "Kategória": "boríték",
                                    "Darabszám": "7"
                                },
                                {
                                    "Kategória": "gyermek cipő",
                                    "Darabszám": "6"
                                },
                                {
                                    "Kategória": "tűzőgép",
                                    "Darabszám": "6"
                                },
                                {
                                    "Kategória": "vonalzó",
                                    "Darabszám": "6"
                                },
                                {
                                    "Kategória": "szalvéta",
                                    "Darabszám": "6"
                                },
                                {
                                    "Kategória": "karton",
                                    "Darabszám": "6"
                                },
                                {
                                    "Kategória": "ironbél",
                                    "Darabszám": "5"
                                },
                                {
                                    "Kategória": "notesz",
                                    "Darabszám": "5"
                                },
                                {
                                    "Kategória": "szövegkiemelő",
                                    "Darabszám": "5"
                                },
                                {
                                    "Kategória": "gyűrűskönyv",
                                    "Darabszám": "5"
                                },
                                {
                                    "Kategória": "color copy",
                                    "Darabszám": "5"
                                },
                                {
                                    "Kategória": "díszkötöző",
                                    "Darabszám": "5"
                                },
                                {
                                    "Kategória": "fénymásoló papír",
                                    "Darabszám": "5"
                                },
                                {
                                    "Kategória": "dekor",
                                    "Darabszám": "4"
                                },
                                {
                                    "Kategória": "bélyegző",
                                    "Darabszám": "4"
                                },
                                {
                                    "Kategória": "hegyező",
                                    "Darabszám": "4"
                                },
                                {
                                    "Kategória": "játékautó",
                                    "Darabszám": "4"
                                },
                                {
                                    "Kategória": "gyermek nadrág",
                                    "Darabszám": "4"
                                },
                                {
                                    "Kategória": "gyurma",
                                    "Darabszám": "4"
                                },
                                {
                                    "Kategória": "füzettartó",
                                    "Darabszám": "4"
                                },
                                {
                                    "Kategória": "ragasztószalag",
                                    "Darabszám": "4"
                                },
                                {
                                    "Kategória": "zseléstoll",
                                    "Darabszám": "4"
                                },
                                {
                                    "Kategória": "vízfesték",
                                    "Darabszám": "4"
                                },
                                {
                                    "Kategória": "meghívó",
                                    "Darabszám": "4"
                                },
                                {
                                    "Kategória": "körző",
                                    "Darabszám": "3"
                                },
                                {
                                    "Kategória": "plüss",
                                    "Darabszám": "3"
                                },
                                {
                                    "Kategória": "olló",
                                    "Darabszám": "3"
                                },
                                {
                                    "Kategória": "tintapatron",
                                    "Darabszám": "3"
                                },
                                {
                                    "Kategória": "szögmérő",
                                    "Darabszám": "3"
                                },
                                {
                                    "Kategória": "fólia",
                                    "Darabszám": "3"
                                },
                                {
                                    "Kategória": "díszdoboz",
                                    "Darabszám": "3"
                                },
                                {
                                    "Kategória": "genotherm",
                                    "Darabszám": "3"
                                },
                                {
                                    "Kategória": "gyorsfűző",
                                    "Darabszám": "3"
                                },
                                {
                                    "Kategória": "iratgyűjtő",
                                    "Darabszám": "3"
                                },
                                {
                                    "Kategória": "ajándék tárgy",
                                    "Darabszám": "3"
                                },
                                {
                                    "Kategória": "álarc",
                                    "Darabszám": "3"
                                },
                                {
                                    "Kategória": "alkalmi",
                                    "Darabszám": "3"
                                },
                                {
                                    "Kategória": "címke",
                                    "Darabszám": "3"
                                },
                                {
                                    "Kategória": "emlékkönyv",
                                    "Darabszám": "3"
                                },
                                {
                                    "Kategória": "férfi nadrág",
                                    "Darabszám": "2"
                                },
                                {
                                    "Kategória": "csomagoló",
                                    "Darabszám": "2"
                                },
                                {
                                    "Kategória": "beírókönyv",
                                    "Darabszám": "2"
                                },
                                {
                                    "Kategória": "celofán",
                                    "Darabszám": "2"
                                },
                                {
                                    "Kategória": "alufólia",
                                    "Darabszám": "2"
                                },
                                {
                                    "Kategória": "iratrendező",
                                    "Darabszám": "2"
                                },
                                {
                                    "Kategória": "iratsín",
                                    "Darabszám": "2"
                                },
                                {
                                    "Kategória": "irattartó",
                                    "Darabszám": "2"
                                },
                                {
                                    "Kategória": "hegyző",
                                    "Darabszám": "2"
                                },
                                {
                                    "Kategória": "hűtőmágnes",
                                    "Darabszám": "2"
                                },
                                {
                                    "Kategória": "indigó",
                                    "Darabszám": "2"
                                },
                                {
                                    "Kategória": "határidő napló",
                                    "Darabszám": "2"
                                },
                                {
                                    "Kategória": "írólap",
                                    "Darabszám": "2"
                                },
                                {
                                    "Kategória": "gyermek póló",
                                    "Darabszám": "2"
                                },
                                {
                                    "Kategória": "gyermek kabát",
                                    "Darabszám": "2"
                                },
                                {
                                    "Kategória": "gemkapocs",
                                    "Darabszám": "2"
                                },
                                {
                                    "Kategória": "gémkapocs",
                                    "Darabszám": "2"
                                },
                                {
                                    "Kategória": "színes",
                                    "Darabszám": "2"
                                },
                                {
                                    "Kategória": "számológép",
                                    "Darabszám": "2"
                                },
                                {
                                    "Kategória": "tempera",
                                    "Darabszám": "2"
                                },
                                {
                                    "Kategória": "radírtoll",
                                    "Darabszám": "2"
                                },
                                {
                                    "Kategória": "rajzlap",
                                    "Darabszám": "2"
                                },
                                {
                                    "Kategória": "rajzszeg",
                                    "Darabszám": "2"
                                },
                                {
                                    "Kategória": "regiszteres füzet",
                                    "Darabszám": "2"
                                },
                                {
                                    "Kategória": "toll",
                                    "Darabszám": "2"
                                },
                                {
                                    "Kategória": "tűzőkapocs",
                                    "Darabszám": "2"
                                },
                                {
                                    "Kategória": "öntapadó",
                                    "Darabszám": "2"
                                },
                                {
                                    "Kategória": "post-it",
                                    "Darabszám": "2"
                                },
                                {
                                    "Kategória": "pénztárbizonylat",
                                    "Darabszám": "2"
                                },
                                {
                                    "Kategória": "pénztárgépszalag",
                                    "Darabszám": "2"
                                },
                                {
                                    "Kategória": "oklevél",
                                    "Darabszám": "2"
                                },
                                {
                                    "Kategória": "naptárhát",
                                    "Darabszám": "2"
                                },
                                {
                                    "Kategória": "kreatív",
                                    "Darabszám": "2"
                                },
                                {
                                    "Kategória": "kosztüm",
                                    "Darabszám": "2"
                                },
                                {
                                    "Kategória": "lufi",
                                    "Darabszám": "2"
                                },
                                {
                                    "Kategória": "lyukasztó",
                                    "Darabszám": "2"
                                },
                                {
                                    "Kategória": "labda",
                                    "Darabszám": "2"
                                },
                                {
                                    "Kategória": "miliméterpapír",
                                    "Darabszám": "1"
                                },
                                {
                                    "Kategória": "műnyomó",
                                    "Darabszám": "1"
                                },
                                {
                                    "Kategória": "naptár",
                                    "Darabszám": "1"
                                },
                                {
                                    "Kategória": "kártya",
                                    "Darabszám": "1"
                                },
                                {
                                    "Kategória": "képkirakó",
                                    "Darabszám": "1"
                                },
                                {
                                    "Kategória": "névjegytartó",
                                    "Darabszám": "1"
                                },
                                {
                                    "Kategória": "női kabát",
                                    "Darabszám": "1"
                                },
                                {
                                    "Kategória": "női nadrág",
                                    "Darabszám": "1"
                                },
                                {
                                    "Kategória": "ofszet",
                                    "Darabszám": "1"
                                },
                                {
                                    "Kategória": "papízsebkendő",
                                    "Darabszám": "1"
                                },
                                {
                                    "Kategória": "pausz",
                                    "Darabszám": "1"
                                },
                                {
                                    "Kategória": "toner",
                                    "Darabszám": "1"
                                },
                                {
                                    "Kategória": "töltőtoll",
                                    "Darabszám": "1"
                                },
                                {
                                    "Kategória": "írásvetítő fólia",
                                    "Darabszám": "1"
                                },
                                {
                                    "Kategória": "zászló",
                                    "Darabszám": "1"
                                },
                                {
                                    "Kategória": "sál",
                                    "Darabszám": "1"
                                },
                                {
                                    "Kategória": "spirál",
                                    "Darabszám": "1"
                                },
                                {
                                    "Kategória": "strandlabda",
                                    "Darabszám": "1"
                                },
                                {
                                    "Kategória": "rágógumi",
                                    "Darabszám": "1"
                                },
                                {
                                    "Kategória": "térképtű",
                                    "Darabszám": "1"
                                },
                                {
                                    "Kategória": "táblafilc",
                                    "Darabszám": "1"
                                },
                                {
                                    "Kategória": "tapétavágó",
                                    "Darabszám": "1"
                                },
                                {
                                    "Kategória": "szemetes",
                                    "Darabszám": "1"
                                },
                                {
                                    "Kategória": "genoterm",
                                    "Darabszám": "1"
                                },
                                {
                                    "Kategória": "fotópapír",
                                    "Darabszám": "1"
                                },
                                {
                                    "Kategória": "gumigyűrű",
                                    "Darabszám": "1"
                                },
                                {
                                    "Kategória": "jelzőkréta",
                                    "Darabszám": "1"
                                },
                                {
                                    "Kategória": "kapocskiszedő",
                                    "Darabszám": "1"
                                },
                                {
                                    "Kategória": "hajgumi",
                                    "Darabszám": "1"
                                },
                                {
                                    "Kategória": "irodaszer",
                                    "Darabszám": "1"
                                },
                                {
                                    "Kategória": "árazószalag",
                                    "Darabszám": "1"
                                },
                                {
                                    "Kategória": "átírótömb",
                                    "Darabszám": "1"
                                },
                                {
                                    "Kategória": "beíró",
                                    "Darabszám": "1"
                                },
                                {
                                    "Kategória": "bélyegzőfesték",
                                    "Darabszám": "1"
                                },
                                {
                                    "Kategória": "cd tok",
                                    "Darabszám": "1"
                                },
                                {
                                    "Kategória": "festékpatron",
                                    "Darabszám": "1"
                                },
                                {
                                    "Kategória": "floppy",
                                    "Darabszám": "1"
                                },
                                {
                                    "Kategória": "férfi ing",
                                    "Darabszám": "1"
                                },
                                {
                                    "Kategória": "férfi kabát",
                                    "Darabszám": "1"
                                },
                                {
                                    "Kategória": "emléklap",
                                    "Darabszám": "1"
                                },
                                {
                                    "Kategória": "fax papír",
                                    "Darabszám": "1"
                                },
                                {
                                    "Kategória": "előlap",
                                    "Darabszám": "1"
                                },
                                {
                                    "Kategória": "dipa",
                                    "Darabszám": "1"
                                },
                                {
                                    "Kategória": "dvd",
                                    "Darabszám": "1"
                                }
                            ]
                        },
                        "text/html": [
                            "<table>",
                            "<tr><th>Kategória</th><th>Darabszám</th></tr>",
                            "<tr><td>golyóstoll</td><td>26</td></tr>",
                            "<tr><td>iskolaszer</td><td>24</td></tr>",
                            "<tr><td>ajándék tasak</td><td>20</td></tr>",
                            "<tr><td>ceruza</td><td>19</td></tr>",
                            "<tr><td>tollbetét</td><td>18</td></tr>",
                            "<tr><td>képeslap</td><td>16</td></tr>",
                            "<tr><td>könyv</td><td>15</td></tr>",
                            "<tr><td>filctoll</td><td>13</td></tr>",
                            "<tr><td>füzet</td><td>11</td></tr>",
                            "<tr><td>matrica</td><td>10</td></tr>",
                            "<tr><td>ragasztó</td><td>10</td></tr>",
                            "<tr><td>munkafüzet</td><td>9</td></tr>",
                            "<tr><td>mappa</td><td>9</td></tr>",
                            "<tr><td>pixiron</td><td>9</td></tr>",
                            "<tr><td>kulcstartó</td><td>7</td></tr>",
                            "<tr><td>levélpapír</td><td>7</td></tr>",
                            "<tr><td>radír</td><td>7</td></tr>",
                            "<tr><td>tolltartó</td><td>7</td></tr>",
                            "<tr><td>füzetborító</td><td>7</td></tr>",
                            "<tr><td>hibajavító</td><td>7</td></tr>",
                            "<tr><td>fehérnemű</td><td>7</td></tr>",
                            "<tr><td>csomagoló papír</td><td>7</td></tr>",
                            "<tr><td>ecset</td><td>7</td></tr>",
                            "<tr><td>boríték</td><td>7</td></tr>",
                            "<tr><td>gyermek cipő</td><td>6</td></tr>",
                            "<tr><td>tűzőgép</td><td>6</td></tr>",
                            "<tr><td>vonalzó</td><td>6</td></tr>",
                            "<tr><td>szalvéta</td><td>6</td></tr>",
                            "<tr><td>karton</td><td>6</td></tr>",
                            "<tr><td>ironbél</td><td>5</td></tr>",
                            "<tr><td>notesz</td><td>5</td></tr>",
                            "<tr><td>szövegkiemelő</td><td>5</td></tr>",
                            "<tr><td>gyűrűskönyv</td><td>5</td></tr>",
                            "<tr><td>color copy</td><td>5</td></tr>",
                            "<tr><td>díszkötöző</td><td>5</td></tr>",
                            "<tr><td>fénymásoló papír</td><td>5</td></tr>",
                            "<tr><td>dekor</td><td>4</td></tr>",
                            "<tr><td>bélyegző</td><td>4</td></tr>",
                            "<tr><td>hegyező</td><td>4</td></tr>",
                            "<tr><td>játékautó</td><td>4</td></tr>",
                            "<tr><td>gyermek nadrág</td><td>4</td></tr>",
                            "<tr><td>gyurma</td><td>4</td></tr>",
                            "<tr><td>füzettartó</td><td>4</td></tr>",
                            "<tr><td>ragasztószalag</td><td>4</td></tr>",
                            "<tr><td>zseléstoll</td><td>4</td></tr>",
                            "<tr><td>vízfesték</td><td>4</td></tr>",
                            "<tr><td>meghívó</td><td>4</td></tr>",
                            "<tr><td>körző</td><td>3</td></tr>",
                            "<tr><td>plüss</td><td>3</td></tr>",
                            "<tr><td>olló</td><td>3</td></tr>",
                            "<tr><td>tintapatron</td><td>3</td></tr>",
                            "<tr><td>szögmérő</td><td>3</td></tr>",
                            "<tr><td>fólia</td><td>3</td></tr>",
                            "<tr><td>díszdoboz</td><td>3</td></tr>",
                            "<tr><td>genotherm</td><td>3</td></tr>",
                            "<tr><td>gyorsfűző</td><td>3</td></tr>",
                            "<tr><td>iratgyűjtő</td><td>3</td></tr>",
                            "<tr><td>ajándék tárgy</td><td>3</td></tr>",
                            "<tr><td>álarc</td><td>3</td></tr>",
                            "<tr><td>alkalmi</td><td>3</td></tr>",
                            "<tr><td>címke</td><td>3</td></tr>",
                            "<tr><td>emlékkönyv</td><td>3</td></tr>",
                            "<tr><td>férfi nadrág</td><td>2</td></tr>",
                            "<tr><td>csomagoló</td><td>2</td></tr>",
                            "<tr><td>beírókönyv</td><td>2</td></tr>",
                            "<tr><td>celofán</td><td>2</td></tr>",
                            "<tr><td>alufólia</td><td>2</td></tr>",
                            "<tr><td>iratrendező</td><td>2</td></tr>",
                            "<tr><td>iratsín</td><td>2</td></tr>",
                            "<tr><td>irattartó</td><td>2</td></tr>",
                            "<tr><td>hegyző</td><td>2</td></tr>",
                            "<tr><td>hűtőmágnes</td><td>2</td></tr>",
                            "<tr><td>indigó</td><td>2</td></tr>",
                            "<tr><td>határidő napló</td><td>2</td></tr>",
                            "<tr><td>írólap</td><td>2</td></tr>",
                            "<tr><td>gyermek póló</td><td>2</td></tr>",
                            "<tr><td>gyermek kabát</td><td>2</td></tr>",
                            "<tr><td>gemkapocs</td><td>2</td></tr>",
                            "<tr><td>gémkapocs</td><td>2</td></tr>",
                            "<tr><td>színes</td><td>2</td></tr>",
                            "<tr><td>számológép</td><td>2</td></tr>",
                            "<tr><td>tempera</td><td>2</td></tr>",
                            "<tr><td>radírtoll</td><td>2</td></tr>",
                            "<tr><td>rajzlap</td><td>2</td></tr>",
                            "<tr><td>rajzszeg</td><td>2</td></tr>",
                            "<tr><td>regiszteres füzet</td><td>2</td></tr>",
                            "<tr><td>toll</td><td>2</td></tr>",
                            "<tr><td>tűzőkapocs</td><td>2</td></tr>",
                            "<tr><td>öntapadó</td><td>2</td></tr>",
                            "<tr><td>post-it</td><td>2</td></tr>",
                            "<tr><td>pénztárbizonylat</td><td>2</td></tr>",
                            "<tr><td>pénztárgépszalag</td><td>2</td></tr>",
                            "<tr><td>oklevél</td><td>2</td></tr>",
                            "<tr><td>naptárhát</td><td>2</td></tr>",
                            "<tr><td>kreatív</td><td>2</td></tr>",
                            "<tr><td>kosztüm</td><td>2</td></tr>",
                            "<tr><td>lufi</td><td>2</td></tr>",
                            "<tr><td>lyukasztó</td><td>2</td></tr>",
                            "<tr><td>labda</td><td>2</td></tr>",
                            "<tr><td>miliméterpapír</td><td>1</td></tr>",
                            "<tr><td>műnyomó</td><td>1</td></tr>",
                            "<tr><td>naptár</td><td>1</td></tr>",
                            "<tr><td>kártya</td><td>1</td></tr>",
                            "<tr><td>képkirakó</td><td>1</td></tr>",
                            "<tr><td>névjegytartó</td><td>1</td></tr>",
                            "<tr><td>női kabát</td><td>1</td></tr>",
                            "<tr><td>női nadrág</td><td>1</td></tr>",
                            "<tr><td>ofszet</td><td>1</td></tr>",
                            "<tr><td>papízsebkendő</td><td>1</td></tr>",
                            "<tr><td>pausz</td><td>1</td></tr>",
                            "<tr><td>toner</td><td>1</td></tr>",
                            "<tr><td>töltőtoll</td><td>1</td></tr>",
                            "<tr><td>írásvetítő fólia</td><td>1</td></tr>",
                            "<tr><td>zászló</td><td>1</td></tr>",
                            "<tr><td>sál</td><td>1</td></tr>",
                            "<tr><td>spirál</td><td>1</td></tr>",
                            "<tr><td>strandlabda</td><td>1</td></tr>",
                            "<tr><td>rágógumi</td><td>1</td></tr>",
                            "<tr><td>térképtű</td><td>1</td></tr>",
                            "<tr><td>táblafilc</td><td>1</td></tr>",
                            "<tr><td>tapétavágó</td><td>1</td></tr>",
                            "<tr><td>szemetes</td><td>1</td></tr>",
                            "<tr><td>genoterm</td><td>1</td></tr>",
                            "<tr><td>fotópapír</td><td>1</td></tr>",
                            "<tr><td>gumigyűrű</td><td>1</td></tr>",
                            "<tr><td>jelzőkréta</td><td>1</td></tr>",
                            "<tr><td>kapocskiszedő</td><td>1</td></tr>",
                            "<tr><td>hajgumi</td><td>1</td></tr>",
                            "<tr><td>irodaszer</td><td>1</td></tr>",
                            "<tr><td>árazószalag</td><td>1</td></tr>",
                            "<tr><td>átírótömb</td><td>1</td></tr>",
                            "<tr><td>beíró</td><td>1</td></tr>",
                            "<tr><td>bélyegzőfesték</td><td>1</td></tr>",
                            "<tr><td>cd tok</td><td>1</td></tr>",
                            "<tr><td>festékpatron</td><td>1</td></tr>",
                            "<tr><td>floppy</td><td>1</td></tr>",
                            "<tr><td>férfi ing</td><td>1</td></tr>",
                            "<tr><td>férfi kabát</td><td>1</td></tr>",
                            "<tr><td>emléklap</td><td>1</td></tr>",
                            "<tr><td>fax papír</td><td>1</td></tr>",
                            "<tr><td>előlap</td><td>1</td></tr>",
                            "<tr><td>dipa</td><td>1</td></tr>",
                            "<tr><td>dvd</td><td>1</td></tr>",
                            "</table>"
                        ]
                    }
                }
            ],
            "execution_count": 2
        },
        {
            "cell_type": "markdown",
            "source": [
                "![](data:image/png;base64,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)"
            ],
            "metadata": {
                "azdata_cell_guid": "a303cb13-22ec-43a5-ba12-5df514514de5"
            },
            "attachments": {}
        },
        {
            "cell_type": "code",
            "source": [
                "-- II. A termékkészlet szórási adatai:\r\n",
                "\r\n",
                "SELECT  STDEV(LISTAAR) AS 'ar_szoras',\r\n",
                "        MAX(LISTAAR) - MIN(LISTAAR) AS 'ar_szorasi_tartomany',\r\n",
                "        STDEV(KESZLET) AS 'mennyiseg_szoras',\r\n",
                "        MAX(KESZLET) - MIN(KESZLET) AS 'mennyiseg_szorasi_tartomany'\r\n",
                "FROM Termek"
            ],
            "metadata": {
                "azdata_cell_guid": "ba2bf63e-9972-41a6-ad29-10dce0a8d7f7",
                "language": "sql",
                "tags": []
            },
            "outputs": [
                {
                    "output_type": "display_data",
                    "data": {
                        "text/html": "(1 row affected)"
                    },
                    "metadata": {}
                },
                {
                    "output_type": "display_data",
                    "data": {
                        "text/html": "Total execution time: 00:00:00.010"
                    },
                    "metadata": {}
                },
                {
                    "output_type": "execute_result",
                    "metadata": {},
                    "execution_count": 3,
                    "data": {
                        "application/vnd.dataresource+json": {
                            "schema": {
                                "fields": [
                                    {
                                        "name": "ar_szoras"
                                    },
                                    {
                                        "name": "ar_szorasi_tartomany"
                                    },
                                    {
                                        "name": "mennyiseg_szoras"
                                    },
                                    {
                                        "name": "mennyiseg_szorasi_tartomany"
                                    }
                                ]
                            },
                            "data": [
                                {
                                    "ar_szoras": "3602,4811630060694",
                                    "ar_szorasi_tartomany": "46000",
                                    "mennyiseg_szoras": "4604,3876191291965",
                                    "mennyiseg_szorasi_tartomany": "50000"
                                }
                            ]
                        },
                        "text/html": [
                            "<table>",
                            "<tr><th>ar_szoras</th><th>ar_szorasi_tartomany</th><th>mennyiseg_szoras</th><th>mennyiseg_szorasi_tartomany</th></tr>",
                            "<tr><td>3602,4811630060694</td><td>46000</td><td>4604,3876191291965</td><td>50000</td></tr>",
                            "</table>"
                        ]
                    }
                }
            ],
            "execution_count": 3
        },
        {
            "cell_type": "code",
            "source": [
                "-- III. Az egyes oszlopok hiányzó értékeinek száma:\r\n",
                "\r\n",
                "SELECT  SUM(CASE WHEN MEGNEVEZES IS NULL THEN 1 ELSE 0 END) AS 'megnevezes',\r\n",
                "        SUM(CASE WHEN LISTAAR IS NULL THEN 1 ELSE 0 END) AS 'listaar',\r\n",
                "        SUM(CASE WHEN LEIRAS IS NULL THEN 1 ELSE 0 END) AS 'leiras',\r\n",
                "        SUM(CASE WHEN KESZLET IS NULL THEN 1 ELSE 0 END) AS 'keszlet',\r\n",
                "        SUM(CASE WHEN MEGYS IS NULL THEN 1 ELSE 0 END) AS 'megys',\r\n",
                "        SUM(CASE WHEN FELVITEL IS NULL THEN 1 ELSE 0 END) AS 'felvitel',\r\n",
                "        SUM(CASE WHEN FELVITTE IS NULL THEN 1 ELSE 0 END) AS 'felvitte'\r\n",
                "FROM Termek"
            ],
            "metadata": {
                "azdata_cell_guid": "0c85dd5a-3d4b-4c20-b32d-481f046101df",
                "language": "sql"
            },
            "outputs": [
                {
                    "output_type": "display_data",
                    "data": {
                        "text/html": "(1 row affected)"
                    },
                    "metadata": {}
                },
                {
                    "output_type": "display_data",
                    "data": {
                        "text/html": "Total execution time: 00:00:00.015"
                    },
                    "metadata": {}
                },
                {
                    "output_type": "execute_result",
                    "metadata": {},
                    "execution_count": 4,
                    "data": {
                        "application/vnd.dataresource+json": {
                            "schema": {
                                "fields": [
                                    {
                                        "name": "megnevezes"
                                    },
                                    {
                                        "name": "listaar"
                                    },
                                    {
                                        "name": "leiras"
                                    },
                                    {
                                        "name": "keszlet"
                                    },
                                    {
                                        "name": "megys"
                                    },
                                    {
                                        "name": "felvitel"
                                    },
                                    {
                                        "name": "felvitte"
                                    }
                                ]
                            },
                            "data": [
                                {
                                    "megnevezes": "0",
                                    "listaar": "0",
                                    "leiras": "527",
                                    "keszlet": "0",
                                    "megys": "0",
                                    "felvitel": "0",
                                    "felvitte": "0"
                                }
                            ]
                        },
                        "text/html": [
                            "<table>",
                            "<tr><th>megnevezes</th><th>listaar</th><th>leiras</th><th>keszlet</th><th>megys</th><th>felvitel</th><th>felvitte</th></tr>",
                            "<tr><td>0</td><td>0</td><td>527</td><td>0</td><td>0</td><td>0</td><td>0</td></tr>",
                            "</table>"
                        ]
                    }
                }
            ],
            "execution_count": 4
        },
        {
            "cell_type": "code",
            "source": [
                "-- IV. Átlagos ár és mennyiség:\r\n",
                "\r\n",
                "SELECT  AVG(LISTAAR) AS 'atlagar',\r\n",
                "        AVG(KESZLET) AS 'atlag_mennyiseg'\r\n",
                "FROM Termek"
            ],
            "metadata": {
                "azdata_cell_guid": "b1d9dd1e-2c1d-45d0-9444-4e8a39bdbb48",
                "language": "sql"
            },
            "outputs": [
                {
                    "output_type": "display_data",
                    "data": {
                        "text/html": "(1 row affected)"
                    },
                    "metadata": {}
                },
                {
                    "output_type": "display_data",
                    "data": {
                        "text/html": "Total execution time: 00:00:00.007"
                    },
                    "metadata": {}
                },
                {
                    "output_type": "execute_result",
                    "metadata": {},
                    "execution_count": 5,
                    "data": {
                        "application/vnd.dataresource+json": {
                            "schema": {
                                "fields": [
                                    {
                                        "name": "atlagar"
                                    },
                                    {
                                        "name": "atlag_mennyiseg"
                                    }
                                ]
                            },
                            "data": [
                                {
                                    "atlagar": "786,2813067150635",
                                    "atlag_mennyiseg": "1585,9909255898367"
                                }
                            ]
                        },
                        "text/html": [
                            "<table>",
                            "<tr><th>atlagar</th><th>atlag_mennyiseg</th></tr>",
                            "<tr><td>786,2813067150635</td><td>1585,9909255898367</td></tr>",
                            "</table>"
                        ]
                    }
                }
            ],
            "execution_count": 5
        }
    ]
}